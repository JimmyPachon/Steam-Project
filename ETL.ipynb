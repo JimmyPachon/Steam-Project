{
  "cells": [
    {
      "cell_type": "code",
      "execution_count": null,
      "metadata": {
        "colab": {
          "base_uri": "https://localhost:8080/"
        },
        "id": "eOlZgWw2AK1M",
        "outputId": "9435c9b6-4a28-4b56-d894-24e6b7be2ff2"
      },
      "outputs": [
        {
          "output_type": "stream",
          "name": "stdout",
          "text": [
            "Requirement already satisfied: vaderSentiment in /usr/local/lib/python3.10/dist-packages (3.3.2)\n",
            "Requirement already satisfied: requests in /usr/local/lib/python3.10/dist-packages (from vaderSentiment) (2.31.0)\n",
            "Requirement already satisfied: charset-normalizer<4,>=2 in /usr/local/lib/python3.10/dist-packages (from requests->vaderSentiment) (3.3.2)\n",
            "Requirement already satisfied: idna<4,>=2.5 in /usr/local/lib/python3.10/dist-packages (from requests->vaderSentiment) (3.4)\n",
            "Requirement already satisfied: urllib3<3,>=1.21.1 in /usr/local/lib/python3.10/dist-packages (from requests->vaderSentiment) (2.0.7)\n",
            "Requirement already satisfied: certifi>=2017.4.17 in /usr/local/lib/python3.10/dist-packages (from requests->vaderSentiment) (2023.7.22)\n"
          ]
        }
      ],
      "source": [
        "#Instalo vaderSentiment para el analisis de sentimientos\n",
        "!pip install vaderSentiment"
      ]
    },
    {
      "cell_type": "code",
      "execution_count": null,
      "metadata": {
        "colab": {
          "base_uri": "https://localhost:8080/"
        },
        "id": "MtASe0qrAKH3",
        "outputId": "811038ac-62cf-4c4a-9932-2484c0b7faa7"
      },
      "outputs": [
        {
          "output_type": "stream",
          "name": "stdout",
          "text": [
            "Collecting langdetect\n",
            "  Downloading langdetect-1.0.9.tar.gz (981 kB)\n",
            "\u001b[2K     \u001b[90m━━━━━━━━━━━━━━━━━━━━━━━━━━━━━━━━━━━━━━━━\u001b[0m \u001b[32m981.5/981.5 kB\u001b[0m \u001b[31m7.3 MB/s\u001b[0m eta \u001b[36m0:00:00\u001b[0m\n",
            "\u001b[?25h  Preparing metadata (setup.py) ... \u001b[?25l\u001b[?25hdone\n",
            "Requirement already satisfied: six in /usr/local/lib/python3.10/dist-packages (from langdetect) (1.16.0)\n",
            "Building wheels for collected packages: langdetect\n",
            "  Building wheel for langdetect (setup.py) ... \u001b[?25l\u001b[?25hdone\n",
            "  Created wheel for langdetect: filename=langdetect-1.0.9-py3-none-any.whl size=993224 sha256=9c9131b88474e4ab13cddf0a5b801e4941fe0d1474a8c95a2a5b2915de1f8597\n",
            "  Stored in directory: /root/.cache/pip/wheels/95/03/7d/59ea870c70ce4e5a370638b5462a7711ab78fba2f655d05106\n",
            "Successfully built langdetect\n",
            "Installing collected packages: langdetect\n",
            "Successfully installed langdetect-1.0.9\n"
          ]
        }
      ],
      "source": [
        "#Instalo langdetect para detectar el idioma\n",
        "!pip install langdetect"
      ]
    },
    {
      "cell_type": "code",
      "execution_count": null,
      "metadata": {
        "id": "NAatv1Bkfu34"
      },
      "outputs": [],
      "source": [
        "#Importo las librerias necesarias para la carga y tratamiento de los datos\n",
        "\n",
        "import pandas as pd\n",
        "from pandas import json_normalize\n",
        "import json\n",
        "import ast\n",
        "from vaderSentiment.vaderSentiment import SentimentIntensityAnalyzer\n",
        "from textblob import TextBlob\n",
        "from langdetect import detect\n",
        "from datetime import datetime\n",
        "import requests\n",
        "from bs4 import BeautifulSoup\n",
        "import re\n"
      ]
    },
    {
      "cell_type": "code",
      "execution_count": null,
      "metadata": {
        "id": "vMauOcDUA4DJ"
      },
      "outputs": [],
      "source": [
        "# Leo el archivo de datos de juegos de steam\n",
        "\n",
        "archivo1=[]\n",
        "\n",
        "with open(\"output_steam_games.json\",\"r\", encoding= 'utf-8') as filejson:\n",
        "\n",
        "    for line in filejson.readlines():\n",
        "\n",
        "        archivo1.append(json.loads(line))\n",
        "\n",
        "\n",
        "steam_games=pd.DataFrame(archivo1)\n"
      ]
    },
    {
      "cell_type": "code",
      "execution_count": null,
      "metadata": {
        "id": "Xrl08dICvx6i"
      },
      "outputs": [],
      "source": [
        "#Leo el archivo de reseñas de usuarios\n",
        "\n",
        "archivo2=[]\n",
        "\n",
        "with open(\"australian_user_reviews.json\",\"r\", encoding= 'utf-8') as filejson:\n",
        "\n",
        "    for line in filejson.readlines():\n",
        "\n",
        "        fila=ast.literal_eval(line)\n",
        "\n",
        "        archivo2.append(fila)\n",
        "\n",
        "\n",
        "user_reviews=pd.DataFrame(archivo2)\n"
      ]
    },
    {
      "cell_type": "code",
      "execution_count": null,
      "metadata": {
        "id": "oIdmXmo_pXZX"
      },
      "outputs": [],
      "source": [
        "#Leo el archivo de items adquiridos por los usuarios\n",
        "\n",
        "archivo3=[]\n",
        "\n",
        "with open(\"australian_users_items.json\",\"r\", encoding= 'utf-8') as filejson:\n",
        "\n",
        "    for line in filejson.readlines():\n",
        "\n",
        "        archivo3.append(ast.literal_eval(line))\n",
        "\n",
        "\n",
        "user_items=pd.DataFrame(archivo3)"
      ]
    },
    {
      "cell_type": "code",
      "execution_count": null,
      "metadata": {
        "id": "xYwwQlzdBqtE"
      },
      "outputs": [],
      "source": [
        "#Se borran los registros que no tengan un id de referencia\n",
        "\n",
        "steam_games.dropna(inplace=True,subset='id')\n",
        "\n",
        "#Elimino columnas que no son necesarias para el sistema de recomendación\n",
        "\n",
        "steam_games= steam_games.drop(['reviews_url','price','early_access','title'], axis=1)\n",
        "\n",
        "#Se llenan los espacios vacios con 'No data'\n",
        "\n",
        "steam_games.fillna('No data',inplace=True)\n",
        "\n",
        "#Se reinician los indices\n",
        "\n",
        "steam_games.reset_index(inplace=True,drop=True)"
      ]
    },
    {
      "cell_type": "code",
      "execution_count": null,
      "metadata": {
        "id": "NqwsjTb9DcZQ"
      },
      "outputs": [],
      "source": [
        "#Se convierten las listas en conjuntos para próximas consultas de las columnas genres,tags y specs.\n",
        "def convertir_en_conjunto(data):\n",
        "\n",
        "  if data=='No data':\n",
        "    return {'No data'}\n",
        "\n",
        "  else:\n",
        "\n",
        "    return set(data)\n",
        "\n",
        "steam_games['genres'],steam_games['tags'],steam_games['specs']=steam_games['genres'].apply(convertir_en_conjunto),steam_games['tags'].apply(convertir_en_conjunto),steam_games['specs'].apply(convertir_en_conjunto)"
      ]
    },
    {
      "cell_type": "code",
      "execution_count": null,
      "metadata": {
        "id": "tD-7V349EERt"
      },
      "outputs": [],
      "source": [
        "\"\"\"Esta función year() se crea para tratar los datos de la columna release_date, dejando únicamente\n",
        "el año de lanzamiento de cada producto, en caso de no especificarlo se reemplaza por 'No data'\"\"\"\n",
        "\n",
        "\n",
        "def year(string):\n",
        "    # Patrón de año (cuatro dígitos)\n",
        "    patron_year = re.compile(r'\\b\\d{4}\\b')\n",
        "\n",
        "    # Buscar coincidencias en la cadena\n",
        "    coincidencias = patron_year.findall(string)\n",
        "\n",
        "    # Devolver el primer año encontrado o 'No data' si no hay coincidencias\n",
        "    return int(coincidencias[0]) if coincidencias else 'No data'\n",
        "\n",
        "\n",
        "#Se aplica la función year sobre la columna release_date\n",
        "\n",
        "steam_games['release_date']=steam_games['release_date'].apply(year)\n"
      ]
    },
    {
      "cell_type": "code",
      "execution_count": null,
      "metadata": {
        "id": "6xP5uuf3FCiV"
      },
      "outputs": [],
      "source": [
        "#Se cambian el nombre de la columna id por item_id para que coincida con el Dataframe de user_items\n",
        "steam_games= steam_games.rename(columns={'id': 'item_id'})\n",
        "\n",
        "#Uno los generos de genres y tags\n",
        "steam_games['genres'] = steam_games.apply(lambda row: row['genres'].union(row['tags']), axis=1)\n",
        "\n",
        "# Eliminar la columna 'tags'\n",
        "steam_games.drop(columns=['tags'], inplace=True)"
      ]
    },
    {
      "cell_type": "code",
      "execution_count": null,
      "metadata": {
        "id": "BiDSwAfTUrWQ"
      },
      "outputs": [],
      "source": [
        "\n",
        "\n",
        "# Función para desanidar una fila\n",
        "def desanidar(fila):\n",
        "\n",
        "    fila = pd.Series(fila, index=['user_id', 'items_count', 'steam_id', 'user_url', 'items'])\n",
        "\n",
        "    if fila['items'] != []:\n",
        "\n",
        "        items_desplegados = json_normalize(fila['items'])\n",
        "        fila_duplicada = pd.concat([fila.to_frame().T] * items_desplegados.shape[0], ignore_index=True)\n",
        "        df_desanidado = pd.concat([fila_duplicada, items_desplegados], axis=1)\n",
        "        df_desanidado.dropna(subset=['item_id'], inplace=True)\n",
        "\n",
        "        return df_desanidado\n",
        "    else:\n",
        "        return fila\n",
        "\n",
        "# Aplicar la función desanidar sobre todo el archivo user_items y concatenar los resultados\n",
        "df_auxiliar_desanidado = pd.concat([desanidar(fila) for fila in user_items.itertuples(index=False)], ignore_index=True)\n",
        "\n",
        "# Eliminar las columnas 'items' y 'playtime_2weeks'\n",
        "df_auxiliar_desanidado = df_auxiliar_desanidado.drop(['items', 'playtime_2weeks'], axis=1)\n",
        "\n",
        "# Rellenar datos faltantes con 'No data'\n",
        "df_auxiliar_desanidado.fillna('No data', inplace=True)\n",
        "\n",
        "# Reemplazar user_items por el df_auxiliar completamente desanidado\n",
        "user_items = df_auxiliar_desanidado\n"
      ]
    },
    {
      "cell_type": "code",
      "execution_count": null,
      "metadata": {
        "id": "Rl0zxaNLftMo"
      },
      "outputs": [],
      "source": [
        "#Se eliminan usuarios que tiene 'No data'\n",
        "user_items=user_items[user_items['user_id']!='No data']\n",
        "\n",
        "#Se elimina una columna que quedo despues del proceso de desanidado\n",
        "user_items = user_items.drop([0], axis=1)\n",
        "\n"
      ]
    },
    {
      "cell_type": "code",
      "execution_count": null,
      "metadata": {
        "id": "6elNKDWOkyFJ"
      },
      "outputs": [],
      "source": [
        "#Se agregan datos de steam games que coinciden con el item_id\n",
        "user_items=pd.merge(user_items,steam_games,on='item_id',how='left')\n",
        "\n",
        "#Se eligen los datos originales agregando la columna de generos y la fecha de lanzamiento\n",
        "user_items=user_items.loc[:,['user_id', 'items_count', 'steam_id', 'user_url', 'item_id',\n",
        "       'item_name', 'playtime_forever','genres','release_date']]\n",
        "\n"
      ]
    },
    {
      "cell_type": "code",
      "execution_count": null,
      "metadata": {
        "id": "8XHHzByhwAD5"
      },
      "outputs": [],
      "source": [
        "#Los datos de genero faltante se rellenan con {'No data'}\n",
        "user_items.fillna('No data',inplace=True)"
      ]
    },
    {
      "cell_type": "code",
      "execution_count": null,
      "metadata": {
        "id": "7ApnaVa4Pp0X"
      },
      "outputs": [],
      "source": [
        "def release_date_search(nombre_juego):\n",
        "    # Formatear el nombre del juego para la URL de Wikipedia\n",
        "    nombre_juego = nombre_juego.replace(\" \", \"_\")\n",
        "    url = f'https://en.wikipedia.org/wiki/{nombre_juego}'\n",
        "\n",
        "    # Realizar la solicitud HTTP\n",
        "    respuesta = requests.get(url)\n",
        "\n",
        "    # Verificar si la solicitud fue exitosa\n",
        "    if respuesta.status_code == 200:\n",
        "        # Utilizar BeautifulSoup para analizar el HTML\n",
        "        soup = BeautifulSoup(respuesta.text, 'html.parser')\n",
        "\n",
        "        # Encontrar la sección que contiene la descripción del juego\n",
        "        descripcion_seccion = soup.find('div', {'id': 'mw-content-text'})\n",
        "\n",
        "        # Extraer el texto de la descripción\n",
        "        descripcion_texto = descripcion_seccion.get_text() if descripcion_seccion else \"\"\n",
        "\n",
        "        # Utilizar expresiones regulares para encontrar el primer año en el texto\n",
        "        anios_encontrados = re.findall(r'\\b\\d{4}\\b', descripcion_texto)\n",
        "\n",
        "        # Devolver el primer año encontrado o un mensaje si no se encuentra ninguno\n",
        "        if anios_encontrados:\n",
        "            return int(anios_encontrados[0])\n",
        "        else:\n",
        "            return 'No data'\n",
        "    else:\n",
        "        return 'No data'\n",
        "\n",
        "\n",
        "\n"
      ]
    },
    {
      "cell_type": "code",
      "execution_count": null,
      "metadata": {
        "id": "820n-b8bx81E"
      },
      "outputs": [],
      "source": [
        "juegos_sin_fecha=user_items[user_items['release_date']=='No data']\n",
        "juegos_sin_fecha=juegos_sin_fecha.drop_duplicates(subset='item_id')\n",
        "juegos_sin_fecha.reset_index(inplace=True,drop=True)\n"
      ]
    },
    {
      "cell_type": "code",
      "execution_count": null,
      "metadata": {
        "id": "vcOaXNJdGE4i"
      },
      "outputs": [],
      "source": [
        "\n",
        "\n",
        "#Hallo los datos que faltan\n",
        "\n",
        "lista_datos_faltantes= juegos_sin_fecha['item_name'].apply(lambda x: release_date_search(x))\n",
        "lista_datos_faltantes=lista_datos_faltantes.rename('release_date')\n"
      ]
    },
    {
      "cell_type": "code",
      "execution_count": null,
      "metadata": {
        "id": "DlvhzGBV1hgo"
      },
      "outputs": [],
      "source": [
        "\n",
        "juegos_sin_fecha=juegos_sin_fecha.drop(columns=['release_date'])\n",
        "juegos_sin_fecha=pd.concat([juegos_sin_fecha,lista_datos_faltantes],axis=1)"
      ]
    },
    {
      "cell_type": "code",
      "execution_count": null,
      "metadata": {
        "id": "QyASof6R7AAs"
      },
      "outputs": [],
      "source": [
        "juegos_sin_fecha=juegos_sin_fecha.loc[:,['item_id','release_date']]"
      ]
    },
    {
      "cell_type": "code",
      "execution_count": null,
      "metadata": {
        "id": "Qs6Ni_CO3PtL"
      },
      "outputs": [],
      "source": [
        "user_items_renovado = pd.merge(user_items, juegos_sin_fecha, on='item_id', how='left')\n"
      ]
    },
    {
      "cell_type": "code",
      "execution_count": null,
      "metadata": {
        "id": "g2-q0ayw7SGM",
        "colab": {
          "base_uri": "https://localhost:8080/"
        },
        "outputId": "59401384-627a-46c0-87c2-872d7ea55fbe"
      },
      "outputs": [
        {
          "output_type": "stream",
          "name": "stderr",
          "text": [
            "<ipython-input-22-2de906160af3>:3: SettingWithCopyWarning: \n",
            "A value is trying to be set on a copy of a slice from a DataFrame.\n",
            "Try using .loc[row_indexer,col_indexer] = value instead\n",
            "\n",
            "See the caveats in the documentation: https://pandas.pydata.org/pandas-docs/stable/user_guide/indexing.html#returning-a-view-versus-a-copy\n",
            "  user_items_renovado[user_items_renovado['release_date_x']=='No data']['release_date_x']= user_items_renovado[user_items_renovado['release_date_x']=='No data']['release_date_y']\n"
          ]
        }
      ],
      "source": [
        "#Reemplazo los datos que me faltaban\"\n",
        "\n",
        "user_items_renovado[user_items_renovado['release_date_x']=='No data']['release_date_x']= user_items_renovado[user_items_renovado['release_date_x']=='No data']['release_date_y']\n",
        "\n"
      ]
    },
    {
      "cell_type": "code",
      "execution_count": null,
      "metadata": {
        "id": "P2XroK689YhU"
      },
      "outputs": [],
      "source": [
        "user_items_renovado=user_items_renovado.drop(columns=['release_date_y'])\n",
        "user_items_renovado=user_items_renovado.rename(columns={'release_date_x': 'release_date'})\n",
        "user_items=user_items_renovado"
      ]
    },
    {
      "cell_type": "code",
      "execution_count": null,
      "metadata": {
        "colab": {
          "base_uri": "https://localhost:8080/"
        },
        "id": "R0Dmp-0WnKz7",
        "outputId": "5288144d-7a41-40e5-968f-b81ebe42d280"
      },
      "outputs": [
        {
          "output_type": "stream",
          "name": "stderr",
          "text": [
            "<ipython-input-26-4d0de0ac5bb3>:27: FutureWarning: Behavior when concatenating bool-dtype and numeric-dtype arrays is deprecated; in a future version these will cast to object dtype (instead of coercing bools to numeric values). To retain the old behavior, explicitly cast bool-dtype arrays to numeric dtype.\n",
            "  df_resultado=pd.concat([df_resultado,df_result],axis=0,ignore_index=True)\n"
          ]
        }
      ],
      "source": [
        "#Hago un DataFrame auxiliar\n",
        "df_resultado=pd.DataFrame({'funny':[],'posted':[], 'last_edited':[],'item_id':[], 'helpful':[],'recommend':[],'review':[]})\n",
        "\n",
        "rango=user_reviews.shape[0]\n",
        "\n",
        "#Desanido la columna  reviews\n",
        "\n",
        "\n",
        "for nfila in range(0,rango):\n",
        "\n",
        "  df_desanidado = json_normalize(user_reviews['reviews'][nfila])\n",
        "  reviews=pd.Series({'user_id':user_reviews['user_id'][nfila]})\n",
        "  reviews2= reviews\n",
        "\n",
        "  for i in range(1,df_desanidado.shape[0]):\n",
        "\n",
        "    reviews=pd.concat([reviews,reviews2],axis=0,ignore_index=True)\n",
        "\n",
        "\n",
        "  if user_reviews['reviews'][nfila]!=[]:\n",
        "    df_result=pd.concat([reviews,df_desanidado],axis=1)\n",
        "\n",
        "  else:\n",
        "\n",
        "    df_result=reviews\n",
        "\n",
        "  df_resultado=pd.concat([df_resultado,df_result],axis=0,ignore_index=True)\n",
        "\n",
        "\n",
        "\n",
        "df_resultado = df_resultado.rename(columns={0: 'user_id'})\n",
        "\n",
        "user_reviews2=pd.merge(user_reviews,df_resultado, on='user_id', how='inner')\n",
        "\n",
        "user_reviews2= user_reviews2.drop(['reviews','funny','last_edited','helpful','user_url'], axis=1)\n"
      ]
    },
    {
      "cell_type": "code",
      "execution_count": null,
      "metadata": {
        "id": "4_6NYS_nnUDz"
      },
      "outputs": [],
      "source": [
        "user_reviews2['review']=user_reviews2['review'].fillna(1)\n",
        "\n",
        "user_reviews2.dropna(inplace=True,subset='item_id')\n",
        "\n",
        "user_reviews2.reset_index(inplace=True,drop=True)"
      ]
    },
    {
      "cell_type": "code",
      "execution_count": null,
      "metadata": {
        "id": "ra8esWtynoIA"
      },
      "outputs": [],
      "source": [
        "def es_ingles(texto):\n",
        "    try:\n",
        "        idioma = detect(texto)\n",
        "        return idioma == 'en'\n",
        "    except:\n",
        "        return False\n",
        "\n",
        "\n",
        "def etiquetar_sentimiento(texto):\n",
        "\n",
        "  if es_ingles(texto):\n",
        "\n",
        "    analyzer = SentimentIntensityAnalyzer()\n",
        "    compound_score = analyzer.polarity_scores(texto)['compound']\n",
        "\n",
        "    # Establecer umbrales según tu preferencia\n",
        "    if compound_score >= 0.05:\n",
        "        return 2\n",
        "    elif compound_score <= -0.05:\n",
        "        return 0\n",
        "    else:\n",
        "        return 1\n",
        "\n",
        "  else:\n",
        "\n",
        "\n",
        "    # Creo un objeto TextBlob\n",
        "    blob = TextBlob(texto)\n",
        "\n",
        "    # Obtengo la polaridad del sentimiento (-1 a 1)\n",
        "    polaridad = blob.sentiment.polarity\n",
        "\n",
        "    # Clasifico el sentimiento\n",
        "    if polaridad > 0.05:\n",
        "        return 2\n",
        "    elif polaridad < -0.05:\n",
        "        return 0\n",
        "    else:\n",
        "        return 1\n",
        "\n",
        "\n",
        "user_reviews3=[]\n",
        "\n",
        "for reseña in user_reviews2['review']:\n",
        "\n",
        "  user_reviews3.append(etiquetar_sentimiento(reseña))\n",
        "\n",
        "user_reviews3=pd.Series(user_reviews3,name=\"review_sentimental\")"
      ]
    },
    {
      "cell_type": "code",
      "execution_count": null,
      "metadata": {
        "id": "eoLsJ9pRnu12"
      },
      "outputs": [],
      "source": [
        "user_reviews2['review']=user_reviews3\n",
        "\n",
        "user_reviews=user_reviews2"
      ]
    },
    {
      "cell_type": "code",
      "execution_count": null,
      "metadata": {
        "id": "M0m6s0iUPSXT",
        "colab": {
          "base_uri": "https://localhost:8080/"
        },
        "outputId": "d90d8597-133d-4c81-c303-aa3303b6ad67"
      },
      "outputs": [
        {
          "output_type": "stream",
          "name": "stderr",
          "text": [
            "<ipython-input-30-8f5b2cc3f310>:7: SettingWithCopyWarning: \n",
            "A value is trying to be set on a copy of a slice from a DataFrame\n",
            "\n",
            "See the caveats in the documentation: https://pandas.pydata.org/pandas-docs/stable/user_guide/indexing.html#returning-a-view-versus-a-copy\n",
            "  recommend.iloc[i]='True'\n"
          ]
        }
      ],
      "source": [
        "recommend=user_reviews['recommend']\n",
        "\n",
        "for i in range(0,recommend.shape[0]):\n",
        "\n",
        "  if recommend.iloc[i]==1.0:\n",
        "\n",
        "    recommend.iloc[i]='True'\n"
      ]
    },
    {
      "cell_type": "code",
      "execution_count": null,
      "metadata": {
        "id": "qipEfvBSS6GQ"
      },
      "outputs": [],
      "source": [
        "user_reviews['recommend']=recommend"
      ]
    },
    {
      "cell_type": "code",
      "execution_count": null,
      "metadata": {
        "id": "ssORnFGibGl7"
      },
      "outputs": [],
      "source": [
        "user_reviews['posted']=user_reviews['posted'].astype(str)\n",
        "user_reviews['posted']=user_reviews['posted'].apply(year)\n"
      ]
    },
    {
      "cell_type": "code",
      "execution_count": null,
      "metadata": {
        "id": "AAieXhaommjM"
      },
      "outputs": [],
      "source": [
        "user_items=user_items[user_items['playtime_forever']!=0]"
      ]
    },
    {
      "cell_type": "code",
      "execution_count": null,
      "metadata": {
        "id": "Jk0RxEjl9NqE"
      },
      "outputs": [],
      "source": [
        "steam_games.drop(columns=['url','publisher'], inplace=True)"
      ]
    },
    {
      "cell_type": "code",
      "execution_count": null,
      "metadata": {
        "id": "gLBpovJF-yYd",
        "colab": {
          "base_uri": "https://localhost:8080/"
        },
        "outputId": "d68f6d81-614e-4af1-d0ae-ac38dd545221"
      },
      "outputs": [
        {
          "output_type": "stream",
          "name": "stderr",
          "text": [
            "<ipython-input-35-0a7bc3f1c0a0>:1: SettingWithCopyWarning: \n",
            "A value is trying to be set on a copy of a slice from a DataFrame\n",
            "\n",
            "See the caveats in the documentation: https://pandas.pydata.org/pandas-docs/stable/user_guide/indexing.html#returning-a-view-versus-a-copy\n",
            "  user_items.drop(columns=['steam_id'], inplace=True)\n"
          ]
        }
      ],
      "source": [
        "user_items.drop(columns=['steam_id'], inplace=True)"
      ]
    },
    {
      "cell_type": "code",
      "execution_count": null,
      "metadata": {
        "id": "130RVObX97Vq",
        "colab": {
          "base_uri": "https://localhost:8080/"
        },
        "outputId": "a4d39ff9-9c0b-4608-c680-023c54d62029"
      },
      "outputs": [
        {
          "output_type": "stream",
          "name": "stderr",
          "text": [
            "<ipython-input-36-195abbbcae29>:1: SettingWithCopyWarning: \n",
            "A value is trying to be set on a copy of a slice from a DataFrame\n",
            "\n",
            "See the caveats in the documentation: https://pandas.pydata.org/pandas-docs/stable/user_guide/indexing.html#returning-a-view-versus-a-copy\n",
            "  user_items.drop(columns=['user_url','items_count',], inplace=True)\n"
          ]
        }
      ],
      "source": [
        "user_items.drop(columns=['user_url','items_count',], inplace=True)"
      ]
    },
    {
      "cell_type": "code",
      "source": [
        "# Obtén el tamaño del DataFrame\n",
        "total_rows = len(user_items)\n",
        "\n",
        "# Calcula los índices para la división\n",
        "idx1 = int(total_rows * 0.33)  # Primer tercio\n",
        "idx2 = int(total_rows * 0.66)  # Segundo tercio\n",
        "\n",
        "# Divide el DataFrame en tres partes\n",
        "user_items1 = user_items.iloc[:idx1]\n",
        "user_items2 = user_items.iloc[idx1:idx2]\n",
        "user_items3 = user_items.iloc[idx2:]"
      ],
      "metadata": {
        "id": "l7-PzGgbbDFG"
      },
      "execution_count": null,
      "outputs": []
    },
    {
      "cell_type": "code",
      "execution_count": null,
      "metadata": {
        "id": "eVEzbjuCdKIu"
      },
      "outputs": [],
      "source": [
        "user_items1.to_csv('user_items1.csv', index=False, sep=';')\n",
        "user_items2.to_csv('user_items2.csv', index=False, sep=';')\n",
        "user_items3.to_csv('user_items3.csv', index=False, sep=';')\n",
        "steam_games.to_csv('steam_games.csv', index=False, sep=';')\n",
        "user_reviews.to_csv('user_reviews.csv', index=False, sep=';')\n",
        "\n"
      ]
    },
    {
      "cell_type": "code",
      "execution_count": null,
      "metadata": {
        "id": "2Add6Fj0k902",
        "colab": {
          "base_uri": "https://localhost:8080/",
          "height": 104
        },
        "outputId": "dbb61ca2-155d-4648-d856-720c21e0496b"
      },
      "outputs": [
        {
          "output_type": "display_data",
          "data": {
            "text/plain": [
              "<IPython.core.display.Javascript object>"
            ],
            "application/javascript": [
              "\n",
              "    async function download(id, filename, size) {\n",
              "      if (!google.colab.kernel.accessAllowed) {\n",
              "        return;\n",
              "      }\n",
              "      const div = document.createElement('div');\n",
              "      const label = document.createElement('label');\n",
              "      label.textContent = `Downloading \"${filename}\": `;\n",
              "      div.appendChild(label);\n",
              "      const progress = document.createElement('progress');\n",
              "      progress.max = size;\n",
              "      div.appendChild(progress);\n",
              "      document.body.appendChild(div);\n",
              "\n",
              "      const buffers = [];\n",
              "      let downloaded = 0;\n",
              "\n",
              "      const channel = await google.colab.kernel.comms.open(id);\n",
              "      // Send a message to notify the kernel that we're ready.\n",
              "      channel.send({})\n",
              "\n",
              "      for await (const message of channel.messages) {\n",
              "        // Send a message to notify the kernel that we're ready.\n",
              "        channel.send({})\n",
              "        if (message.buffers) {\n",
              "          for (const buffer of message.buffers) {\n",
              "            buffers.push(buffer);\n",
              "            downloaded += buffer.byteLength;\n",
              "            progress.value = downloaded;\n",
              "          }\n",
              "        }\n",
              "      }\n",
              "      const blob = new Blob(buffers, {type: 'application/binary'});\n",
              "      const a = document.createElement('a');\n",
              "      a.href = window.URL.createObjectURL(blob);\n",
              "      a.download = filename;\n",
              "      div.appendChild(a);\n",
              "      a.click();\n",
              "      div.remove();\n",
              "    }\n",
              "  "
            ]
          },
          "metadata": {}
        },
        {
          "output_type": "display_data",
          "data": {
            "text/plain": [
              "<IPython.core.display.Javascript object>"
            ],
            "application/javascript": [
              "download(\"download_c2f1c67c-50f1-4a5d-b911-6d300e4dcded\", \"user_items1.csv\", 276619409)"
            ]
          },
          "metadata": {}
        },
        {
          "output_type": "display_data",
          "data": {
            "text/plain": [
              "<IPython.core.display.Javascript object>"
            ],
            "application/javascript": [
              "\n",
              "    async function download(id, filename, size) {\n",
              "      if (!google.colab.kernel.accessAllowed) {\n",
              "        return;\n",
              "      }\n",
              "      const div = document.createElement('div');\n",
              "      const label = document.createElement('label');\n",
              "      label.textContent = `Downloading \"${filename}\": `;\n",
              "      div.appendChild(label);\n",
              "      const progress = document.createElement('progress');\n",
              "      progress.max = size;\n",
              "      div.appendChild(progress);\n",
              "      document.body.appendChild(div);\n",
              "\n",
              "      const buffers = [];\n",
              "      let downloaded = 0;\n",
              "\n",
              "      const channel = await google.colab.kernel.comms.open(id);\n",
              "      // Send a message to notify the kernel that we're ready.\n",
              "      channel.send({})\n",
              "\n",
              "      for await (const message of channel.messages) {\n",
              "        // Send a message to notify the kernel that we're ready.\n",
              "        channel.send({})\n",
              "        if (message.buffers) {\n",
              "          for (const buffer of message.buffers) {\n",
              "            buffers.push(buffer);\n",
              "            downloaded += buffer.byteLength;\n",
              "            progress.value = downloaded;\n",
              "          }\n",
              "        }\n",
              "      }\n",
              "      const blob = new Blob(buffers, {type: 'application/binary'});\n",
              "      const a = document.createElement('a');\n",
              "      a.href = window.URL.createObjectURL(blob);\n",
              "      a.download = filename;\n",
              "      div.appendChild(a);\n",
              "      a.click();\n",
              "      div.remove();\n",
              "    }\n",
              "  "
            ]
          },
          "metadata": {}
        },
        {
          "output_type": "display_data",
          "data": {
            "text/plain": [
              "<IPython.core.display.Javascript object>"
            ],
            "application/javascript": [
              "download(\"download_430b930c-8337-4946-9021-130926ba21db\", \"user_items2.csv\", 276933633)"
            ]
          },
          "metadata": {}
        },
        {
          "output_type": "display_data",
          "data": {
            "text/plain": [
              "<IPython.core.display.Javascript object>"
            ],
            "application/javascript": [
              "\n",
              "    async function download(id, filename, size) {\n",
              "      if (!google.colab.kernel.accessAllowed) {\n",
              "        return;\n",
              "      }\n",
              "      const div = document.createElement('div');\n",
              "      const label = document.createElement('label');\n",
              "      label.textContent = `Downloading \"${filename}\": `;\n",
              "      div.appendChild(label);\n",
              "      const progress = document.createElement('progress');\n",
              "      progress.max = size;\n",
              "      div.appendChild(progress);\n",
              "      document.body.appendChild(div);\n",
              "\n",
              "      const buffers = [];\n",
              "      let downloaded = 0;\n",
              "\n",
              "      const channel = await google.colab.kernel.comms.open(id);\n",
              "      // Send a message to notify the kernel that we're ready.\n",
              "      channel.send({})\n",
              "\n",
              "      for await (const message of channel.messages) {\n",
              "        // Send a message to notify the kernel that we're ready.\n",
              "        channel.send({})\n",
              "        if (message.buffers) {\n",
              "          for (const buffer of message.buffers) {\n",
              "            buffers.push(buffer);\n",
              "            downloaded += buffer.byteLength;\n",
              "            progress.value = downloaded;\n",
              "          }\n",
              "        }\n",
              "      }\n",
              "      const blob = new Blob(buffers, {type: 'application/binary'});\n",
              "      const a = document.createElement('a');\n",
              "      a.href = window.URL.createObjectURL(blob);\n",
              "      a.download = filename;\n",
              "      div.appendChild(a);\n",
              "      a.click();\n",
              "      div.remove();\n",
              "    }\n",
              "  "
            ]
          },
          "metadata": {}
        },
        {
          "output_type": "display_data",
          "data": {
            "text/plain": [
              "<IPython.core.display.Javascript object>"
            ],
            "application/javascript": [
              "download(\"download_4941fca4-197c-4520-8e0a-dcfae2f159b2\", \"user_items3.csv\", 287766693)"
            ]
          },
          "metadata": {}
        },
        {
          "output_type": "display_data",
          "data": {
            "text/plain": [
              "<IPython.core.display.Javascript object>"
            ],
            "application/javascript": [
              "\n",
              "    async function download(id, filename, size) {\n",
              "      if (!google.colab.kernel.accessAllowed) {\n",
              "        return;\n",
              "      }\n",
              "      const div = document.createElement('div');\n",
              "      const label = document.createElement('label');\n",
              "      label.textContent = `Downloading \"${filename}\": `;\n",
              "      div.appendChild(label);\n",
              "      const progress = document.createElement('progress');\n",
              "      progress.max = size;\n",
              "      div.appendChild(progress);\n",
              "      document.body.appendChild(div);\n",
              "\n",
              "      const buffers = [];\n",
              "      let downloaded = 0;\n",
              "\n",
              "      const channel = await google.colab.kernel.comms.open(id);\n",
              "      // Send a message to notify the kernel that we're ready.\n",
              "      channel.send({})\n",
              "\n",
              "      for await (const message of channel.messages) {\n",
              "        // Send a message to notify the kernel that we're ready.\n",
              "        channel.send({})\n",
              "        if (message.buffers) {\n",
              "          for (const buffer of message.buffers) {\n",
              "            buffers.push(buffer);\n",
              "            downloaded += buffer.byteLength;\n",
              "            progress.value = downloaded;\n",
              "          }\n",
              "        }\n",
              "      }\n",
              "      const blob = new Blob(buffers, {type: 'application/binary'});\n",
              "      const a = document.createElement('a');\n",
              "      a.href = window.URL.createObjectURL(blob);\n",
              "      a.download = filename;\n",
              "      div.appendChild(a);\n",
              "      a.click();\n",
              "      div.remove();\n",
              "    }\n",
              "  "
            ]
          },
          "metadata": {}
        },
        {
          "output_type": "display_data",
          "data": {
            "text/plain": [
              "<IPython.core.display.Javascript object>"
            ],
            "application/javascript": [
              "download(\"download_9b3eef98-bcb0-489e-88eb-287ad751b4ac\", \"user_reviews.csv\", 1551293)"
            ]
          },
          "metadata": {}
        },
        {
          "output_type": "display_data",
          "data": {
            "text/plain": [
              "<IPython.core.display.Javascript object>"
            ],
            "application/javascript": [
              "\n",
              "    async function download(id, filename, size) {\n",
              "      if (!google.colab.kernel.accessAllowed) {\n",
              "        return;\n",
              "      }\n",
              "      const div = document.createElement('div');\n",
              "      const label = document.createElement('label');\n",
              "      label.textContent = `Downloading \"${filename}\": `;\n",
              "      div.appendChild(label);\n",
              "      const progress = document.createElement('progress');\n",
              "      progress.max = size;\n",
              "      div.appendChild(progress);\n",
              "      document.body.appendChild(div);\n",
              "\n",
              "      const buffers = [];\n",
              "      let downloaded = 0;\n",
              "\n",
              "      const channel = await google.colab.kernel.comms.open(id);\n",
              "      // Send a message to notify the kernel that we're ready.\n",
              "      channel.send({})\n",
              "\n",
              "      for await (const message of channel.messages) {\n",
              "        // Send a message to notify the kernel that we're ready.\n",
              "        channel.send({})\n",
              "        if (message.buffers) {\n",
              "          for (const buffer of message.buffers) {\n",
              "            buffers.push(buffer);\n",
              "            downloaded += buffer.byteLength;\n",
              "            progress.value = downloaded;\n",
              "          }\n",
              "        }\n",
              "      }\n",
              "      const blob = new Blob(buffers, {type: 'application/binary'});\n",
              "      const a = document.createElement('a');\n",
              "      a.href = window.URL.createObjectURL(blob);\n",
              "      a.download = filename;\n",
              "      div.appendChild(a);\n",
              "      a.click();\n",
              "      div.remove();\n",
              "    }\n",
              "  "
            ]
          },
          "metadata": {}
        },
        {
          "output_type": "display_data",
          "data": {
            "text/plain": [
              "<IPython.core.display.Javascript object>"
            ],
            "application/javascript": [
              "download(\"download_ca411f41-6b31-467b-8a01-635af36c1498\", \"steam_games.csv\", 6944643)"
            ]
          },
          "metadata": {}
        }
      ],
      "source": [
        "from google.colab import files\n",
        "\n",
        "files.download('user_items1.csv')\n",
        "files.download('user_items2.csv')\n",
        "files.download('user_items3.csv')\n",
        "files.download('user_reviews.csv')\n",
        "files.download('steam_games.csv')"
      ]
    }
  ],
  "metadata": {
    "colab": {
      "provenance": []
    },
    "kernelspec": {
      "display_name": "Python 3",
      "name": "python3"
    },
    "language_info": {
      "name": "python"
    }
  },
  "nbformat": 4,
  "nbformat_minor": 0
}